{
 "cells": [
  {
   "cell_type": "raw",
   "id": "10bdeea9",
   "metadata": {},
   "source": [
    "Чтобы запустить этот ноутбук, его нужно положить его в корень репозитория credit_scoring-ru"
   ]
  },
  {
   "cell_type": "markdown",
   "id": "960df99e",
   "metadata": {},
   "source": [
    "### Загрузка библиотек "
   ]
  },
  {
   "cell_type": "code",
   "execution_count": 1,
   "id": "05a9a716",
   "metadata": {},
   "outputs": [],
   "source": [
    "import numpy as np\n",
    "\n",
    "import pandas as pd\n",
    "import pandas as pdload_predictor\n",
    "\n",
    "\n",
    "import matplotlib\n",
    "import matplotlib.pyplot as plt\n",
    "matplotlib.style.use('ggplot')\n",
    "%matplotlib inline"
   ]
  },
  {
   "cell_type": "code",
   "execution_count": 2,
   "id": "f70677da",
   "metadata": {},
   "outputs": [],
   "source": [
    "import sys\n",
    "import warnings\n",
    "\n",
    "if not sys.warnoptions:\n",
    "    warnings.simplefilter(\"ignore\")"
   ]
  },
  {
   "cell_type": "code",
   "execution_count": 3,
   "id": "4bce123d",
   "metadata": {},
   "outputs": [],
   "source": [
    "import pickle as pk\n",
    "\n",
    "import xgboost as xgb\n",
    "\n",
    "from mlframework import load_predictor"
   ]
  },
  {
   "cell_type": "markdown",
   "id": "55f6f643",
   "metadata": {},
   "source": [
    " \n",
    " "
   ]
  },
  {
   "cell_type": "markdown",
   "id": "13135136",
   "metadata": {},
   "source": [
    "### Загрузка датасета "
   ]
  },
  {
   "cell_type": "code",
   "execution_count": 4,
   "id": "65dbd61a",
   "metadata": {},
   "outputs": [],
   "source": [
    "df = pd.read_csv('../_/6. RD-5850 - Обучить модели на новой ОВ/data/stage_data.csv')"
   ]
  },
  {
   "cell_type": "code",
   "execution_count": 5,
   "id": "ce1d6cba",
   "metadata": {},
   "outputs": [
    {
     "data": {
      "text/plain": [
       "(5674, 394)"
      ]
     },
     "execution_count": 5,
     "metadata": {},
     "output_type": "execute_result"
    }
   ],
   "source": [
    "df.shape"
   ]
  },
  {
   "cell_type": "code",
   "execution_count": 6,
   "id": "1fb105cf",
   "metadata": {},
   "outputs": [
    {
     "data": {
      "text/html": [
       "<div>\n",
       "<style scoped>\n",
       "    .dataframe tbody tr th:only-of-type {\n",
       "        vertical-align: middle;\n",
       "    }\n",
       "\n",
       "    .dataframe tbody tr th {\n",
       "        vertical-align: top;\n",
       "    }\n",
       "\n",
       "    .dataframe thead th {\n",
       "        text-align: right;\n",
       "    }\n",
       "</style>\n",
       "<table border=\"1\" class=\"dataframe\">\n",
       "  <thead>\n",
       "    <tr style=\"text-align: right;\">\n",
       "      <th></th>\n",
       "      <th>project_id</th>\n",
       "      <th>equ_str_INN</th>\n",
       "      <th>nbk_num_Age</th>\n",
       "      <th>nbk_num_CHQ</th>\n",
       "      <th>equ_str_Snils</th>\n",
       "      <th>meg_num_Score</th>\n",
       "      <th>application_id</th>\n",
       "      <th>equ_num_RateCHQ</th>\n",
       "      <th>smev_str_status</th>\n",
       "      <th>equ_str_LastName</th>\n",
       "      <th>...</th>\n",
       "      <th>nbk-db_num_avg_income_nbk_12m_used_count_credits</th>\n",
       "      <th>equ_num_AvgWeightedAverageCatOverdueLineMicroloan</th>\n",
       "      <th>frontend_num_SimilarityMeasureMobileAndAdditional</th>\n",
       "      <th>kontur-frontend_bool_HasBankruptDataWithoutSnilsInn</th>\n",
       "      <th>juicy_num_TotalNumOfShortTermCreditApplicationsIn7days</th>\n",
       "      <th>equ_num_CountCreditsFor6monOverdueMoreThan30DaysMicroloan</th>\n",
       "      <th>equ-nbk_bit_HasActiveOverdueMoreThan30DaysFor6monMicroloan</th>\n",
       "      <th>prod_score</th>\n",
       "      <th>model</th>\n",
       "      <th>verdict</th>\n",
       "    </tr>\n",
       "  </thead>\n",
       "  <tbody>\n",
       "    <tr>\n",
       "      <th>0</th>\n",
       "      <td>0</td>\n",
       "      <td>NaN</td>\n",
       "      <td>29.0</td>\n",
       "      <td>0.46258</td>\n",
       "      <td>1.327172e+10</td>\n",
       "      <td>0.077897</td>\n",
       "      <td>11021318</td>\n",
       "      <td>0.303972</td>\n",
       "      <td>VALID</td>\n",
       "      <td>ХАРИТОНОВА</td>\n",
       "      <td>...</td>\n",
       "      <td>13.0</td>\n",
       "      <td>0.088889</td>\n",
       "      <td>18.0</td>\n",
       "      <td>False</td>\n",
       "      <td>0.0</td>\n",
       "      <td>0</td>\n",
       "      <td>0.0</td>\n",
       "      <td>0.738249</td>\n",
       "      <td>122</td>\n",
       "      <td>0</td>\n",
       "    </tr>\n",
       "    <tr>\n",
       "      <th>1</th>\n",
       "      <td>0</td>\n",
       "      <td>NaN</td>\n",
       "      <td>40.0</td>\n",
       "      <td>0.44743</td>\n",
       "      <td>NaN</td>\n",
       "      <td>0.116104</td>\n",
       "      <td>11018484</td>\n",
       "      <td>0.189654</td>\n",
       "      <td>NaN</td>\n",
       "      <td>ЛЯДОВ</td>\n",
       "      <td>...</td>\n",
       "      <td>7.0</td>\n",
       "      <td>0.200000</td>\n",
       "      <td>18.0</td>\n",
       "      <td>False</td>\n",
       "      <td>0.0</td>\n",
       "      <td>0</td>\n",
       "      <td>0.0</td>\n",
       "      <td>0.038479</td>\n",
       "      <td>122</td>\n",
       "      <td>1</td>\n",
       "    </tr>\n",
       "    <tr>\n",
       "      <th>2</th>\n",
       "      <td>0</td>\n",
       "      <td>NaN</td>\n",
       "      <td>37.0</td>\n",
       "      <td>2.74684</td>\n",
       "      <td>NaN</td>\n",
       "      <td>0.122125</td>\n",
       "      <td>11019337</td>\n",
       "      <td>2.103541</td>\n",
       "      <td>NaN</td>\n",
       "      <td>МИРОМАНОВ</td>\n",
       "      <td>...</td>\n",
       "      <td>6.0</td>\n",
       "      <td>0.450000</td>\n",
       "      <td>14.0</td>\n",
       "      <td>False</td>\n",
       "      <td>0.0</td>\n",
       "      <td>0</td>\n",
       "      <td>1.0</td>\n",
       "      <td>0.006727</td>\n",
       "      <td>122</td>\n",
       "      <td>1</td>\n",
       "    </tr>\n",
       "    <tr>\n",
       "      <th>3</th>\n",
       "      <td>0</td>\n",
       "      <td>NaN</td>\n",
       "      <td>49.0</td>\n",
       "      <td>1.25892</td>\n",
       "      <td>NaN</td>\n",
       "      <td>0.105559</td>\n",
       "      <td>11024767</td>\n",
       "      <td>0.202314</td>\n",
       "      <td>NaN</td>\n",
       "      <td>ПОЛУБОТКО</td>\n",
       "      <td>...</td>\n",
       "      <td>3.0</td>\n",
       "      <td>0.069841</td>\n",
       "      <td>16.0</td>\n",
       "      <td>False</td>\n",
       "      <td>0.0</td>\n",
       "      <td>0</td>\n",
       "      <td>0.0</td>\n",
       "      <td>0.615067</td>\n",
       "      <td>122</td>\n",
       "      <td>0</td>\n",
       "    </tr>\n",
       "    <tr>\n",
       "      <th>4</th>\n",
       "      <td>0</td>\n",
       "      <td>NaN</td>\n",
       "      <td>33.0</td>\n",
       "      <td>0.00725</td>\n",
       "      <td>NaN</td>\n",
       "      <td>0.153607</td>\n",
       "      <td>11026102</td>\n",
       "      <td>0.065859</td>\n",
       "      <td>VALID</td>\n",
       "      <td>КРИУЛИНА</td>\n",
       "      <td>...</td>\n",
       "      <td>23.0</td>\n",
       "      <td>0.000000</td>\n",
       "      <td>18.0</td>\n",
       "      <td>False</td>\n",
       "      <td>0.0</td>\n",
       "      <td>0</td>\n",
       "      <td>0.0</td>\n",
       "      <td>0.825713</td>\n",
       "      <td>122</td>\n",
       "      <td>0</td>\n",
       "    </tr>\n",
       "  </tbody>\n",
       "</table>\n",
       "<p>5 rows × 394 columns</p>\n",
       "</div>"
      ],
      "text/plain": [
       "   project_id  equ_str_INN  nbk_num_Age  nbk_num_CHQ  equ_str_Snils  \\\n",
       "0           0          NaN         29.0      0.46258   1.327172e+10   \n",
       "1           0          NaN         40.0      0.44743            NaN   \n",
       "2           0          NaN         37.0      2.74684            NaN   \n",
       "3           0          NaN         49.0      1.25892            NaN   \n",
       "4           0          NaN         33.0      0.00725            NaN   \n",
       "\n",
       "   meg_num_Score  application_id  equ_num_RateCHQ smev_str_status  \\\n",
       "0       0.077897        11021318         0.303972           VALID   \n",
       "1       0.116104        11018484         0.189654             NaN   \n",
       "2       0.122125        11019337         2.103541             NaN   \n",
       "3       0.105559        11024767         0.202314             NaN   \n",
       "4       0.153607        11026102         0.065859           VALID   \n",
       "\n",
       "  equ_str_LastName  ...  nbk-db_num_avg_income_nbk_12m_used_count_credits  \\\n",
       "0       ХАРИТОНОВА  ...                                              13.0   \n",
       "1            ЛЯДОВ  ...                                               7.0   \n",
       "2        МИРОМАНОВ  ...                                               6.0   \n",
       "3        ПОЛУБОТКО  ...                                               3.0   \n",
       "4         КРИУЛИНА  ...                                              23.0   \n",
       "\n",
       "   equ_num_AvgWeightedAverageCatOverdueLineMicroloan  \\\n",
       "0                                           0.088889   \n",
       "1                                           0.200000   \n",
       "2                                           0.450000   \n",
       "3                                           0.069841   \n",
       "4                                           0.000000   \n",
       "\n",
       "   frontend_num_SimilarityMeasureMobileAndAdditional  \\\n",
       "0                                               18.0   \n",
       "1                                               18.0   \n",
       "2                                               14.0   \n",
       "3                                               16.0   \n",
       "4                                               18.0   \n",
       "\n",
       "  kontur-frontend_bool_HasBankruptDataWithoutSnilsInn  \\\n",
       "0                                              False    \n",
       "1                                              False    \n",
       "2                                              False    \n",
       "3                                              False    \n",
       "4                                              False    \n",
       "\n",
       "  juicy_num_TotalNumOfShortTermCreditApplicationsIn7days  \\\n",
       "0                                                0.0       \n",
       "1                                                0.0       \n",
       "2                                                0.0       \n",
       "3                                                0.0       \n",
       "4                                                0.0       \n",
       "\n",
       "   equ_num_CountCreditsFor6monOverdueMoreThan30DaysMicroloan  \\\n",
       "0                                                  0           \n",
       "1                                                  0           \n",
       "2                                                  0           \n",
       "3                                                  0           \n",
       "4                                                  0           \n",
       "\n",
       "   equ-nbk_bit_HasActiveOverdueMoreThan30DaysFor6monMicroloan prod_score  \\\n",
       "0                                                0.0            0.738249   \n",
       "1                                                0.0            0.038479   \n",
       "2                                                1.0            0.006727   \n",
       "3                                                0.0            0.615067   \n",
       "4                                                0.0            0.825713   \n",
       "\n",
       "  model  verdict  \n",
       "0   122        0  \n",
       "1   122        1  \n",
       "2   122        1  \n",
       "3   122        0  \n",
       "4   122        0  \n",
       "\n",
       "[5 rows x 394 columns]"
      ]
     },
     "execution_count": 6,
     "metadata": {},
     "output_type": "execute_result"
    }
   ],
   "source": [
    "df.head()"
   ]
  },
  {
   "cell_type": "code",
   "execution_count": 7,
   "id": "3d24d0cf",
   "metadata": {},
   "outputs": [
    {
     "data": {
      "text/plain": [
       "7"
      ]
     },
     "execution_count": 7,
     "metadata": {},
     "output_type": "execute_result"
    }
   ],
   "source": [
    "df[df['model'] == 128].shape[0]"
   ]
  },
  {
   "cell_type": "code",
   "execution_count": 8,
   "id": "e8381154",
   "metadata": {},
   "outputs": [
    {
     "data": {
      "text/plain": [
       "5667"
      ]
     },
     "execution_count": 8,
     "metadata": {},
     "output_type": "execute_result"
    }
   ],
   "source": [
    "df[df['model'] == 122].shape[0]"
   ]
  },
  {
   "cell_type": "markdown",
   "id": "4cd6ebf1",
   "metadata": {},
   "source": [
    " "
   ]
  },
  {
   "cell_type": "markdown",
   "id": "0f5d17b7",
   "metadata": {},
   "source": [
    "### Predict "
   ]
  },
  {
   "cell_type": "code",
   "execution_count": 9,
   "id": "3aaa05e4",
   "metadata": {},
   "outputs": [],
   "source": [
    "model_path = '../_/6. RD-5850 - Обучить модели на новой ОВ/models/Эксперимент 4 на новой ОВ/runs/new short-term (48). test_2021_01 2021_12_21-09_59_12/predictors/new short-term (48). test_2021_01_all short-term.predictor'\n",
    "model = load_predictor(model_path)"
   ]
  },
  {
   "cell_type": "code",
   "execution_count": 10,
   "id": "5d6ade57",
   "metadata": {},
   "outputs": [],
   "source": [
    "clean_model = model.model.model\n",
    "\n",
    "with open('exp4_model.predictor', 'bw') as f:\n",
    "    pk.dump(clean_model, f)"
   ]
  },
  {
   "cell_type": "code",
   "execution_count": 11,
   "id": "e8dbcb2b",
   "metadata": {},
   "outputs": [],
   "source": [
    "preproc_data = model.pipeline.transform(df)"
   ]
  },
  {
   "cell_type": "markdown",
   "id": "71fd9c2f",
   "metadata": {},
   "source": [
    " "
   ]
  },
  {
   "cell_type": "code",
   "execution_count": 50,
   "id": "cdd7e33b",
   "metadata": {},
   "outputs": [
    {
     "data": {
      "image/png": "[encoded data removed]",
      "text/plain": [
       "<Figure size 432x288 with 1 Axes>"
      ]
     },
     "metadata": {
      "needs_background": "light"
     },
     "output_type": "display_data"
    }
   ],
   "source": [
    "df['model_score'] = model.predict_proba(df)[:, 0]\n",
    "\n",
    "fig = plt.figure()\n",
    "ax = fig.add_subplot(111)\n",
    "\n",
    "ax.hist(df['model_score'] , alpha = 0.5, lw=3, color='r', bins=20)\n",
    "ax.hist(df['prod_score'], alpha = 0.2, lw=3, color='b', bins=20)\n",
    "\n",
    "plt.show()"
   ]
  },
  {
   "cell_type": "markdown",
   "id": "a1ac7867",
   "metadata": {},
   "source": [
    " "
   ]
  },
  {
   "cell_type": "markdown",
   "id": "35b9c360",
   "metadata": {},
   "source": [
    " "
   ]
  },
  {
   "cell_type": "code",
   "execution_count": 13,
   "id": "e5d11cc2",
   "metadata": {},
   "outputs": [],
   "source": [
    "def get_new_tariffs(tariffs, prod_threshold):\n",
    "    \n",
    "    model_threshold = [] \n",
    "\n",
    "    model_threshold.append(prod_threshold[0])\n",
    "\n",
    "    for i in range(len(prod_threshold) - 2): \n",
    "        prod_rate = df[(df['prod_score'] >= prod_threshold[i]) & (df['prod_score'] < prod_threshold[i+1])].shape[0] / df.shape[0]\n",
    "        print('prod_rate:', prod_rate)\n",
    "\n",
    "        delta = 100 \n",
    "        threshold_ = 0\n",
    "\n",
    "        for j in np.arange((prod_threshold[i+1]-0.03), (prod_threshold[i+1]+0.031), 0.005):\n",
    "\n",
    "            model_rate = df[(df['model_score'] >= model_threshold[i]) & (df['model_score'] < j)].shape[0] / df.shape[0]\n",
    "\n",
    "            if abs(prod_rate - model_rate) < delta:\n",
    "                delta = abs(prod_rate - model_rate)\n",
    "                threshold_ = j\n",
    "\n",
    "\n",
    "        model_threshold.append(round(threshold_, 3))    \n",
    "\n",
    "\n",
    "        print('model_rate:', df[(df['model_score'] >= model_threshold[i]) & (df['model_score'] < threshold_)].shape[0] / df.shape[0])\n",
    "        print('')\n",
    "\n",
    "    print('prod_rate:', df[(df['prod_score'] >= prod_threshold[-1]) & (df['prod_score'] <= 1)].shape[0] / df.shape[0])\n",
    "    print('model_rate:', df[(df['model_score'] >= model_threshold[-1]) & (df['model_score'] <= 1)].shape[0] / df.shape[0])\n",
    "\n",
    "    print('')\n",
    "\n",
    "    model_threshold.append(prod_threshold[-1]) \n",
    "\n",
    "    print(model_threshold)\n",
    "    print('')\n",
    "    \n",
    "    \n",
    "    \n",
    "    from tabulate import tabulate\n",
    "\n",
    "\n",
    "    print(tabulate([[tariffs[i], \n",
    "                     model_threshold[i], \n",
    "                     model_threshold[i+1]] for i in range(len(tariffs))], \n",
    "                   headers=['tariff name', 'lower threshold', 'upper threshold']))\n"
   ]
  },
  {
   "cell_type": "code",
   "execution_count": 14,
   "id": "88b8874e",
   "metadata": {
    "scrolled": false
   },
   "outputs": [
    {
     "name": "stdout",
     "output_type": "stream",
     "text": [
      "prod_rate: 0.5281988015509341\n",
      "model_rate: 0.5274938315121608\n",
      "\n",
      "prod_rate: 0.06785336623193514\n",
      "model_rate: 0.06714839619316179\n",
      "\n",
      "prod_rate: 0.06873457878040183\n",
      "model_rate: 0.06820585125132182\n",
      "\n",
      "prod_rate: 0.06150863588297498\n",
      "model_rate: 0.06027493831512161\n",
      "\n",
      "prod_rate: 0.05199154035953472\n",
      "model_rate: 0.04846669016566796\n",
      "\n",
      "prod_rate: 0.062037363412054986\n",
      "model_rate: 0.06397603101868171\n",
      "\n",
      "prod_rate: 0.05657384561156151\n",
      "model_rate: 0.05498766302432147\n",
      "\n",
      "prod_rate: 0.04582305252026789\n",
      "model_rate: 0.04758547761720127\n",
      "\n",
      "prod_rate: 0.03542474444836095\n",
      "model_rate: 0.03718716954529432\n",
      "\n",
      "prod_rate: 0.01691928093056045\n",
      "model_rate: 0.015861825872400422\n",
      "\n",
      "prod_rate: 0.003172365174480085\n",
      "model_rate: 0.0040535777229467745\n",
      "\n",
      "prod_rate: 0.0\n",
      "model_rate: 0.004758547761720127\n",
      "\n",
      "[0, 0.52, 0.595, 0.65, 0.7, 0.735, 0.78, 0.82, 0.86, 0.9, 0.92, 0.93, 1]\n",
      "\n",
      "tariff name      lower threshold    upper threshold\n",
      "-------------  -----------------  -----------------\n",
      "Start1                     0                  0.52\n",
      "Start2                     0.52               0.595\n",
      "Start                      0.595              0.65\n",
      "Silver1                    0.65               0.7\n",
      "Silver2                    0.7                0.735\n",
      "Silver3                    0.735              0.78\n",
      "Silver                     0.78               0.82\n",
      "Gold1                      0.82               0.86\n",
      "Gold2                      0.86               0.9\n",
      "Gold3                      0.9                0.92\n",
      "Gold                       0.92               0.93\n",
      "Gold                       0.93               1\n"
     ]
    }
   ],
   "source": [
    "tariffs = ['Start1', 'Start2', 'Start', 'Silver1', 'Silver2', 'Silver3', 'Silver',\n",
    "           'Gold1', 'Gold2', 'Gold3', 'Gold', 'Gold']\n",
    "\n",
    "prod_threshold = [0, 0.5, 0.57, 0.63, 0.68, 0.72, 0.765, 0.81, 0.85, 0.89, 0.92, 0.93, 1] \n",
    "\n",
    "get_new_tariffs(tariffs, prod_threshold)"
   ]
  },
  {
   "cell_type": "markdown",
   "id": "9d190698",
   "metadata": {},
   "source": [
    " "
   ]
  },
  {
   "cell_type": "markdown",
   "id": "d509a77e",
   "metadata": {},
   "source": [
    "    TARIFF_SHORT_BY_SCORE_NEW: Tuple[TariffWithThresholds] = tuple(  # type: ignore\n",
    "        TariffWithThresholds.parse_obj(obj_data)\n",
    "        for obj_data in (\n",
    "            {\"tariff_name\": \"Start1\", \"lower_threshold\": 0, \"upper_threshold\": 0.5},\n",
    "            {\"tariff_name\": \"Start2\", \"lower_threshold\": 0.5, \"upper_threshold\": 0.57},\n",
    "            {\"tariff_name\": \"Start\", \"lower_threshold\": 0.57, \"upper_threshold\": 0.63},\n",
    "            {\"tariff_name\": \"Silver1\", \"lower_threshold\": 0.63, \"upper_threshold\": 0.68},\n",
    "            {\"tariff_name\": \"Silver2\", \"lower_threshold\": 0.68, \"upper_threshold\": 0.72},\n",
    "            {\"tariff_name\": \"Silver3\", \"lower_threshold\": 0.72, \"upper_threshold\": 0.765},\n",
    "            {\"tariff_name\": \"Silver\", \"lower_threshold\": 0.765, \"upper_threshold\": 0.81},\n",
    "            {\"tariff_name\": \"Gold1\", \"lower_threshold\": 0.81, \"upper_threshold\": 0.85},\n",
    "            {\"tariff_name\": \"Gold2\", \"lower_threshold\": 0.85, \"upper_threshold\": 0.89},\n",
    "            {\"tariff_name\": \"Gold3\", \"lower_threshold\": 0.89, \"upper_threshold\": 0.92},\n",
    "            {\"tariff_name\": \"Gold\", \"lower_threshold\": 0.92, \"upper_threshold\": 0.93},\n",
    "            {\"tariff_name\": \"Gold\", \"lower_threshold\": 0.93, \"upper_threshold\": 1},\n",
    "        )\n",
    "    )\n",
    "\n"
   ]
  },
  {
   "cell_type": "markdown",
   "id": "a67a28fc",
   "metadata": {},
   "source": [
    "Проверить, есть ли сильные изменения скора у заявок. "
   ]
  },
  {
   "cell_type": "code",
   "execution_count": 15,
   "id": "8fe8bfb7",
   "metadata": {},
   "outputs": [],
   "source": [
    "df['delta_score'] = df['model_score'] - df['prod_score']"
   ]
  },
  {
   "cell_type": "code",
   "execution_count": 16,
   "id": "33588e69",
   "metadata": {},
   "outputs": [
    {
     "data": {
      "text/plain": [
       "<AxesSubplot:>"
      ]
     },
     "execution_count": 16,
     "metadata": {},
     "output_type": "execute_result"
    },
    {
     "data": {
      "image/png": "[encoded data removed]",
      "text/plain": [
       "<Figure size 432x288 with 1 Axes>"
      ]
     },
     "metadata": {
      "needs_background": "light"
     },
     "output_type": "display_data"
    }
   ],
   "source": [
    "df['delta_score'].hist(bins=100)"
   ]
  },
  {
   "cell_type": "code",
   "execution_count": 30,
   "id": "fe18f14f",
   "metadata": {},
   "outputs": [
    {
     "data": {
      "text/plain": [
       "0.02256"
      ]
     },
     "execution_count": 30,
     "metadata": {},
     "output_type": "execute_result"
    }
   ],
   "source": [
    "np.round((df[abs(df['delta_score']) > 0.1].shape[0] / df.shape[0]), 5)"
   ]
  },
  {
   "cell_type": "code",
   "execution_count": 17,
   "id": "7cd9aace",
   "metadata": {},
   "outputs": [
    {
     "data": {
      "text/html": [
       "<div>\n",
       "<style scoped>\n",
       "    .dataframe tbody tr th:only-of-type {\n",
       "        vertical-align: middle;\n",
       "    }\n",
       "\n",
       "    .dataframe tbody tr th {\n",
       "        vertical-align: top;\n",
       "    }\n",
       "\n",
       "    .dataframe thead th {\n",
       "        text-align: right;\n",
       "    }\n",
       "</style>\n",
       "<table border=\"1\" class=\"dataframe\">\n",
       "  <thead>\n",
       "    <tr style=\"text-align: right;\">\n",
       "      <th></th>\n",
       "      <th>prod_score</th>\n",
       "      <th>model_score</th>\n",
       "      <th>delta_score</th>\n",
       "    </tr>\n",
       "  </thead>\n",
       "  <tbody>\n",
       "    <tr>\n",
       "      <th>156</th>\n",
       "      <td>0.368629</td>\n",
       "      <td>0.560576</td>\n",
       "      <td>0.191946</td>\n",
       "    </tr>\n",
       "    <tr>\n",
       "      <th>324</th>\n",
       "      <td>0.240425</td>\n",
       "      <td>0.086435</td>\n",
       "      <td>-0.153990</td>\n",
       "    </tr>\n",
       "    <tr>\n",
       "      <th>486</th>\n",
       "      <td>0.202033</td>\n",
       "      <td>0.365240</td>\n",
       "      <td>0.163207</td>\n",
       "    </tr>\n",
       "    <tr>\n",
       "      <th>845</th>\n",
       "      <td>0.282803</td>\n",
       "      <td>0.448273</td>\n",
       "      <td>0.165470</td>\n",
       "    </tr>\n",
       "    <tr>\n",
       "      <th>1047</th>\n",
       "      <td>0.200459</td>\n",
       "      <td>0.448235</td>\n",
       "      <td>0.247776</td>\n",
       "    </tr>\n",
       "    <tr>\n",
       "      <th>1362</th>\n",
       "      <td>0.516906</td>\n",
       "      <td>0.719151</td>\n",
       "      <td>0.202245</td>\n",
       "    </tr>\n",
       "    <tr>\n",
       "      <th>1433</th>\n",
       "      <td>0.338570</td>\n",
       "      <td>0.168185</td>\n",
       "      <td>-0.170384</td>\n",
       "    </tr>\n",
       "    <tr>\n",
       "      <th>1684</th>\n",
       "      <td>0.099834</td>\n",
       "      <td>0.270104</td>\n",
       "      <td>0.170270</td>\n",
       "    </tr>\n",
       "    <tr>\n",
       "      <th>2237</th>\n",
       "      <td>0.479096</td>\n",
       "      <td>0.665000</td>\n",
       "      <td>0.185904</td>\n",
       "    </tr>\n",
       "    <tr>\n",
       "      <th>3140</th>\n",
       "      <td>0.286514</td>\n",
       "      <td>0.621448</td>\n",
       "      <td>0.334934</td>\n",
       "    </tr>\n",
       "    <tr>\n",
       "      <th>3258</th>\n",
       "      <td>0.494503</td>\n",
       "      <td>0.322444</td>\n",
       "      <td>-0.172059</td>\n",
       "    </tr>\n",
       "    <tr>\n",
       "      <th>3588</th>\n",
       "      <td>0.280414</td>\n",
       "      <td>0.450886</td>\n",
       "      <td>0.170473</td>\n",
       "    </tr>\n",
       "    <tr>\n",
       "      <th>4005</th>\n",
       "      <td>0.279645</td>\n",
       "      <td>0.451835</td>\n",
       "      <td>0.172190</td>\n",
       "    </tr>\n",
       "    <tr>\n",
       "      <th>4290</th>\n",
       "      <td>0.476100</td>\n",
       "      <td>0.626760</td>\n",
       "      <td>0.150660</td>\n",
       "    </tr>\n",
       "    <tr>\n",
       "      <th>4421</th>\n",
       "      <td>0.295995</td>\n",
       "      <td>0.461078</td>\n",
       "      <td>0.165082</td>\n",
       "    </tr>\n",
       "    <tr>\n",
       "      <th>4473</th>\n",
       "      <td>0.604691</td>\n",
       "      <td>0.756688</td>\n",
       "      <td>0.151997</td>\n",
       "    </tr>\n",
       "    <tr>\n",
       "      <th>4519</th>\n",
       "      <td>0.263732</td>\n",
       "      <td>0.501213</td>\n",
       "      <td>0.237480</td>\n",
       "    </tr>\n",
       "    <tr>\n",
       "      <th>4764</th>\n",
       "      <td>0.431643</td>\n",
       "      <td>0.661120</td>\n",
       "      <td>0.229477</td>\n",
       "    </tr>\n",
       "    <tr>\n",
       "      <th>4794</th>\n",
       "      <td>0.353661</td>\n",
       "      <td>0.654772</td>\n",
       "      <td>0.301111</td>\n",
       "    </tr>\n",
       "    <tr>\n",
       "      <th>4865</th>\n",
       "      <td>0.315541</td>\n",
       "      <td>0.564228</td>\n",
       "      <td>0.248687</td>\n",
       "    </tr>\n",
       "    <tr>\n",
       "      <th>4912</th>\n",
       "      <td>0.131917</td>\n",
       "      <td>0.290767</td>\n",
       "      <td>0.158850</td>\n",
       "    </tr>\n",
       "    <tr>\n",
       "      <th>5096</th>\n",
       "      <td>0.245114</td>\n",
       "      <td>0.533261</td>\n",
       "      <td>0.288148</td>\n",
       "    </tr>\n",
       "    <tr>\n",
       "      <th>5208</th>\n",
       "      <td>0.116611</td>\n",
       "      <td>0.306163</td>\n",
       "      <td>0.189552</td>\n",
       "    </tr>\n",
       "    <tr>\n",
       "      <th>5323</th>\n",
       "      <td>0.269778</td>\n",
       "      <td>0.503063</td>\n",
       "      <td>0.233286</td>\n",
       "    </tr>\n",
       "    <tr>\n",
       "      <th>5334</th>\n",
       "      <td>0.636133</td>\n",
       "      <td>0.788394</td>\n",
       "      <td>0.152261</td>\n",
       "    </tr>\n",
       "    <tr>\n",
       "      <th>5625</th>\n",
       "      <td>0.473118</td>\n",
       "      <td>0.631260</td>\n",
       "      <td>0.158142</td>\n",
       "    </tr>\n",
       "  </tbody>\n",
       "</table>\n",
       "</div>"
      ],
      "text/plain": [
       "      prod_score  model_score  delta_score\n",
       "156     0.368629     0.560576     0.191946\n",
       "324     0.240425     0.086435    -0.153990\n",
       "486     0.202033     0.365240     0.163207\n",
       "845     0.282803     0.448273     0.165470\n",
       "1047    0.200459     0.448235     0.247776\n",
       "1362    0.516906     0.719151     0.202245\n",
       "1433    0.338570     0.168185    -0.170384\n",
       "1684    0.099834     0.270104     0.170270\n",
       "2237    0.479096     0.665000     0.185904\n",
       "3140    0.286514     0.621448     0.334934\n",
       "3258    0.494503     0.322444    -0.172059\n",
       "3588    0.280414     0.450886     0.170473\n",
       "4005    0.279645     0.451835     0.172190\n",
       "4290    0.476100     0.626760     0.150660\n",
       "4421    0.295995     0.461078     0.165082\n",
       "4473    0.604691     0.756688     0.151997\n",
       "4519    0.263732     0.501213     0.237480\n",
       "4764    0.431643     0.661120     0.229477\n",
       "4794    0.353661     0.654772     0.301111\n",
       "4865    0.315541     0.564228     0.248687\n",
       "4912    0.131917     0.290767     0.158850\n",
       "5096    0.245114     0.533261     0.288148\n",
       "5208    0.116611     0.306163     0.189552\n",
       "5323    0.269778     0.503063     0.233286\n",
       "5334    0.636133     0.788394     0.152261\n",
       "5625    0.473118     0.631260     0.158142"
      ]
     },
     "execution_count": 17,
     "metadata": {},
     "output_type": "execute_result"
    }
   ],
   "source": [
    "df[abs(df['delta_score']) > 0.15][['prod_score', 'model_score', 'delta_score']][:60]"
   ]
  },
  {
   "cell_type": "markdown",
   "id": "660e1777",
   "metadata": {},
   "source": [
    "Максимальная дельта изменения скора среди заявок."
   ]
  },
  {
   "cell_type": "code",
   "execution_count": 18,
   "id": "0c210c22",
   "metadata": {},
   "outputs": [
    {
     "name": "stdout",
     "output_type": "stream",
     "text": [
      "max delta: 0.33493411540985113\n"
     ]
    }
   ],
   "source": [
    "print('max delta:', abs((df['delta_score'])).max())"
   ]
  },
  {
   "cell_type": "markdown",
   "id": "4a7979a1",
   "metadata": {},
   "source": [
    "Посчитать средний скор(в целом/для одобрения). "
   ]
  },
  {
   "cell_type": "code",
   "execution_count": 25,
   "id": "0d3dfa07",
   "metadata": {},
   "outputs": [
    {
     "name": "stdout",
     "output_type": "stream",
     "text": [
      "средний скор на продовой модели (весь поток): 0.42467\n",
      "средний скор на новой модели (весь поток):    0.43266\n"
     ]
    }
   ],
   "source": [
    "print('средний скор на продовой модели (весь поток):', np.round(df['prod_score'].mean(), 5))\n",
    "print('средний скор на новой модели (весь поток):   ', np.round(df['model_score'].mean(), 5))"
   ]
  },
  {
   "cell_type": "code",
   "execution_count": 26,
   "id": "fd0ae1b9",
   "metadata": {},
   "outputs": [
    {
     "name": "stdout",
     "output_type": "stream",
     "text": [
      "средний скор на продовой модели (одобренные): 0.05837\n",
      "средний скор на новой модели (одобренные):    0.05154\n"
     ]
    }
   ],
   "source": [
    "print('средний скор на продовой модели (одобренные):', np.round(df[df['verdict'] == 1]['prod_score'].mean(), 5))\n",
    "print('средний скор на новой модели (одобренные):   ', np.round(df[df['verdict'] == 1]['model_score'].mean(), 5))"
   ]
  },
  {
   "cell_type": "markdown",
   "id": "34a7349e",
   "metadata": {},
   "source": [
    "Какой процент(количество) с одобрения получили блок. "
   ]
  },
  {
   "cell_type": "markdown",
   "id": "e295ba26",
   "metadata": {},
   "source": [
    "    Нижний порог по продовой модели 122:     0.2\n",
    "    Верхний порог по продовой модели 122:    0.2\n",
    "\n",
    "    Нижний порог по продовой модели 128:     0.25\n",
    "    Верхний порог по продовой модели 128:    0.25"
   ]
  },
  {
   "cell_type": "code",
   "execution_count": 41,
   "id": "bcfd5695",
   "metadata": {},
   "outputs": [
    {
     "data": {
      "text/plain": [
       "array([0])"
      ]
     },
     "execution_count": 41,
     "metadata": {},
     "output_type": "execute_result"
    }
   ],
   "source": [
    "np.unique(df[df['prod_score'] >= 0.2]['verdict'])"
   ]
  },
  {
   "cell_type": "code",
   "execution_count": 43,
   "id": "7061dab3",
   "metadata": {},
   "outputs": [
    {
     "data": {
      "text/plain": [
       "array([1])"
      ]
     },
     "execution_count": 43,
     "metadata": {},
     "output_type": "execute_result"
    }
   ],
   "source": [
    "np.unique(df[df['prod_score'] < 0.2]['verdict'])"
   ]
  },
  {
   "cell_type": "code",
   "execution_count": 68,
   "id": "c5dc5d49",
   "metadata": {},
   "outputs": [
    {
     "data": {
      "image/png": "[encoded data removed]",
      "text/plain": [
       "<Figure size 1296x360 with 2 Axes>"
      ]
     },
     "metadata": {
      "needs_background": "light"
     },
     "output_type": "display_data"
    }
   ],
   "source": [
    "df['model_score'] = model.predict_proba(df)[:, 0]\n",
    "\n",
    "fig = plt.figure(figsize=(18, 5)) \n",
    "\n",
    "ax1 = plt.subplot(1,2,1)\n",
    "\n",
    "plt.hist(df['prod_score'], alpha = 0.5, lw=3, color='r', bins=100, label='all')\n",
    "plt.hist(df[df['verdict'] == 0]['prod_score'], alpha = 0.4, lw=3, color='b', bins=100, label='approved')\n",
    "plt.title('Распределение скоров продовой модели')\n",
    "plt.xlabel('score')\n",
    "plt.legend()\n",
    "\n",
    "\n",
    "ax2 = plt.subplot(1,2,2)\n",
    "\n",
    "plt.hist(df['model_score'], alpha = 0.5, lw=3, color='r', bins=100, label='all')\n",
    "plt.hist(df[df['verdict'] == 0]['model_score'], alpha = 0.4, lw=3, color='b', bins=100, label='approved')\n",
    "plt.title('Распределение скоров новой модели')\n",
    "plt.xlabel('score')\n",
    "plt.legend()\n",
    "\n",
    "\n",
    "plt.show()"
   ]
  },
  {
   "cell_type": "code",
   "execution_count": 44,
   "id": "6410a14e",
   "metadata": {},
   "outputs": [
    {
     "data": {
      "text/plain": [
       "0.08643478"
      ]
     },
     "execution_count": 44,
     "metadata": {},
     "output_type": "execute_result"
    }
   ],
   "source": [
    "df[df['prod_score'] >= 0.2]['model_score'].min()"
   ]
  },
  {
   "cell_type": "code",
   "execution_count": 87,
   "id": "98cc3501",
   "metadata": {
    "scrolled": false
   },
   "outputs": [
    {
     "name": "stdout",
     "output_type": "stream",
     "text": [
      "Старый порог: 0.2\n",
      "0.6713077194219246\n",
      "\n",
      "Новый порог: 0.19\n",
      "0.6721889319703913\n"
     ]
    }
   ],
   "source": [
    "threshold = 0.2\n",
    "\n",
    "prod_rate = df[df['prod_score'] >= threshold].shape[0] / df.shape[0] \n",
    "\n",
    "print('Старый порог:', threshold)\n",
    "print(prod_rate)\n",
    "print('')\n",
    "\n",
    "\n",
    "delta = 100 \n",
    "threshold_ = 0 \n",
    "\n",
    "for j in np.arange((threshold-0.05), (threshold+0.05), 0.005):\n",
    "    model_rate = df[df['model_score'] >= j].shape[0] / df.shape[0] \n",
    "\n",
    "    if abs(prod_rate - model_rate) < delta:\n",
    "        delta = abs(prod_rate - model_rate)\n",
    "        threshold_ = j\n",
    "\n",
    "print('Новый порог:', round(threshold_, 4))\n",
    "print(df[df['model_score'] >= threshold_].shape[0] / df.shape[0])"
   ]
  },
  {
   "cell_type": "markdown",
   "id": "7e979f1a",
   "metadata": {},
   "source": [
    " "
   ]
  },
  {
   "cell_type": "markdown",
   "id": "0cbdb2aa",
   "metadata": {},
   "source": [
    " "
   ]
  }
 ],
 "metadata": {
  "kernelspec": {
   "display_name": "Python 3 (ipykernel)",
   "language": "python",
   "name": "python3"
  },
  "language_info": {
   "codemirror_mode": {
    "name": "ipython",
    "version": 3
   },
   "file_extension": ".py",
   "mimetype": "text/x-python",
   "name": "python",
   "nbconvert_exporter": "python",
   "pygments_lexer": "ipython3",
   "version": "3.9.13"
  }
 },
 "nbformat": 4,
 "nbformat_minor": 5
}
